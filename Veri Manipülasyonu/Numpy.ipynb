{
 "cells": [
  {
   "cell_type": "markdown",
   "id": "325c2870-d242-4417-9838-754e5c824d20",
   "metadata": {},
   "source": [
    "# Numpy"
   ]
  },
  {
   "cell_type": "code",
   "execution_count": 1,
   "id": "33b6014f-ad07-48e2-9ee8-0b3aafe619fc",
   "metadata": {},
   "outputs": [],
   "source": [
    "import numpy as np"
   ]
  },
  {
   "cell_type": "code",
   "execution_count": 2,
   "id": "a5bef35d-251b-4319-a7f5-15105bc8ad7c",
   "metadata": {},
   "outputs": [
    {
     "data": {
      "text/plain": [
       "array([1, 2, 3, 4, 5])"
      ]
     },
     "execution_count": 2,
     "metadata": {},
     "output_type": "execute_result"
    }
   ],
   "source": [
    "# Numpy array oluşturma\n",
    "a = np.array([1,2,3,4,5])\n",
    "a"
   ]
  },
  {
   "cell_type": "code",
   "execution_count": 3,
   "id": "9fcb8d88-ea31-4747-9c69-19b027a00b9a",
   "metadata": {},
   "outputs": [
    {
     "data": {
      "text/plain": [
       "numpy.ndarray"
      ]
     },
     "execution_count": 3,
     "metadata": {},
     "output_type": "execute_result"
    }
   ],
   "source": [
    "type(a)"
   ]
  },
  {
   "cell_type": "code",
   "execution_count": 4,
   "id": "fc56cd54-5cd6-4178-b6a8-540b0444c38d",
   "metadata": {},
   "outputs": [
    {
     "data": {
      "text/plain": [
       "array([4.34, 5.  , 3.  , 6.  ])"
      ]
     },
     "execution_count": 4,
     "metadata": {},
     "output_type": "execute_result"
    }
   ],
   "source": [
    "# Array içindeki değerleri 'float' tipine dönüştürür\n",
    "np.array([4.34, 5, 3, 6], dtype = \"float\")"
   ]
  },
  {
   "cell_type": "markdown",
   "id": "b806c37a-fdb5-443b-8ade-f6036971f618",
   "metadata": {},
   "source": [
    "## Sıfırdan Array Oluşturma\n",
    "* **zeros**: 0'larla dolu bir array oluşturur\n",
    "* **ones**:  1'lerle dolu bir array oluşturur\n",
    "* **full**: Belirtilen değerle dolu array oluşturur\n",
    "* **arange**: Belirli aralıktaki sayılardan array oluşturur\n",
    "* **linspace**: Eşit aralıklarla sayılardan array oluşturur\n",
    "* **random.normal**: Normal dağılımlı rastgele sayılardan array oluşturur\n",
    "* **random.randint**: Belirtilen aralıktaki rastgele tamsayılardan array oluşturur"
   ]
  },
  {
   "cell_type": "code",
   "execution_count": 5,
   "id": "94ddfef6-5038-483c-8c4c-dff1087649a1",
   "metadata": {},
   "outputs": [
    {
     "data": {
      "text/plain": [
       "array([0, 0, 0, 0, 0])"
      ]
     },
     "execution_count": 5,
     "metadata": {},
     "output_type": "execute_result"
    }
   ],
   "source": [
    "np.zeros(5, dtype = int)"
   ]
  },
  {
   "cell_type": "code",
   "execution_count": 6,
   "id": "93edd88c-f997-43a6-8d92-33abf74b6950",
   "metadata": {},
   "outputs": [
    {
     "data": {
      "text/plain": [
       "array([[1, 1],\n",
       "       [1, 1],\n",
       "       [1, 1],\n",
       "       [1, 1],\n",
       "       [1, 1]])"
      ]
     },
     "execution_count": 6,
     "metadata": {},
     "output_type": "execute_result"
    }
   ],
   "source": [
    "np.ones((5,2), dtype = int)"
   ]
  },
  {
   "cell_type": "code",
   "execution_count": 7,
   "id": "bbd9900b-725e-456f-b2ef-7ca0ec2856d6",
   "metadata": {},
   "outputs": [
    {
     "data": {
      "text/plain": [
       "array([[8, 8, 8, 8, 8],\n",
       "       [8, 8, 8, 8, 8]])"
      ]
     },
     "execution_count": 7,
     "metadata": {},
     "output_type": "execute_result"
    }
   ],
   "source": [
    "np.full((2,5), 8)"
   ]
  },
  {
   "cell_type": "code",
   "execution_count": 8,
   "id": "f29d4ca6-c787-40db-93a0-6099b5f35679",
   "metadata": {},
   "outputs": [
    {
     "data": {
      "text/plain": [
       "array([ 1,  6, 11, 16, 21, 26, 31, 36])"
      ]
     },
     "execution_count": 8,
     "metadata": {},
     "output_type": "execute_result"
    }
   ],
   "source": [
    "np.arange(1,38,5)"
   ]
  },
  {
   "cell_type": "code",
   "execution_count": 9,
   "id": "9774a3ff-83c0-4a81-a702-5f5beb54aa19",
   "metadata": {},
   "outputs": [
    {
     "data": {
      "text/plain": [
       "array([ 0.        ,  2.07142857,  4.14285714,  6.21428571,  8.28571429,\n",
       "       10.35714286, 12.42857143, 14.5       , 16.57142857, 18.64285714,\n",
       "       20.71428571, 22.78571429, 24.85714286, 26.92857143, 29.        ])"
      ]
     },
     "execution_count": 9,
     "metadata": {},
     "output_type": "execute_result"
    }
   ],
   "source": [
    "np.linspace(0,29,15)"
   ]
  },
  {
   "cell_type": "code",
   "execution_count": 10,
   "id": "8342ebc2-5d6d-407e-bf93-1159914243c8",
   "metadata": {},
   "outputs": [
    {
     "data": {
      "text/plain": [
       "array([[ -0.43646617,  -3.25892655,  -9.30966156],\n",
       "       [  7.28529905, -13.93487441,   9.35468656],\n",
       "       [ -3.75351971,   4.79854402,  10.82129122],\n",
       "       [ 13.10455244,  10.81502229,  -0.22761376]])"
      ]
     },
     "execution_count": 10,
     "metadata": {},
     "output_type": "execute_result"
    }
   ],
   "source": [
    "np.random.normal(3, 7, (4,3))"
   ]
  },
  {
   "cell_type": "code",
   "execution_count": 11,
   "id": "42bd83db-aaff-4f2c-93dc-f24142a44ea1",
   "metadata": {},
   "outputs": [
    {
     "data": {
      "text/plain": [
       "array([[ 5,  5,  6,  9],\n",
       "       [ 9,  6, 11,  5],\n",
       "       [ 6,  4,  6,  9],\n",
       "       [ 3,  7,  4,  4]])"
      ]
     },
     "execution_count": 11,
     "metadata": {},
     "output_type": "execute_result"
    }
   ],
   "source": [
    "np.random.randint(0,13, (4,4))"
   ]
  },
  {
   "cell_type": "markdown",
   "id": "1b68c735-0bc5-46de-a8dd-0ac84fc681f0",
   "metadata": {},
   "source": [
    "## Özellikleri\n",
    "\n",
    "* **dytpe**: Tip bilgisini verir\n",
    "* **ndim**: Boyut sayısını verir\n",
    "* **shape**: Boyut bilgisini verir\n",
    "* **size**: Toplam elamam sayısına verir"
   ]
  },
  {
   "cell_type": "code",
   "execution_count": 12,
   "id": "47249a53-9575-4a47-9b91-141e5512ae7b",
   "metadata": {},
   "outputs": [
    {
     "data": {
      "text/plain": [
       "array([ 5, 16,  9,  8,  6,  7,  6, 15,  7,  6, 12,  6,  9,  3,  0,  9])"
      ]
     },
     "execution_count": 12,
     "metadata": {},
     "output_type": "execute_result"
    }
   ],
   "source": [
    "numArray = np.random.randint(18, size = 16)\n",
    "numArray"
   ]
  },
  {
   "cell_type": "code",
   "execution_count": 13,
   "id": "3125b01e-d143-47dc-a5eb-534faeaa8ee4",
   "metadata": {},
   "outputs": [
    {
     "data": {
      "text/plain": [
       "dtype('int32')"
      ]
     },
     "execution_count": 13,
     "metadata": {},
     "output_type": "execute_result"
    }
   ],
   "source": [
    "numArray.dtype"
   ]
  },
  {
   "cell_type": "code",
   "execution_count": 14,
   "id": "7624967d-93d0-4c71-a71b-767ebf212c53",
   "metadata": {},
   "outputs": [
    {
     "data": {
      "text/plain": [
       "1"
      ]
     },
     "execution_count": 14,
     "metadata": {},
     "output_type": "execute_result"
    }
   ],
   "source": [
    "numArray.ndim"
   ]
  },
  {
   "cell_type": "code",
   "execution_count": 15,
   "id": "3ff41e73-6e6a-47e7-a7c8-d8ebc5748ad7",
   "metadata": {},
   "outputs": [
    {
     "data": {
      "text/plain": [
       "(16,)"
      ]
     },
     "execution_count": 15,
     "metadata": {},
     "output_type": "execute_result"
    }
   ],
   "source": [
    "numArray.shape"
   ]
  },
  {
   "cell_type": "code",
   "execution_count": 16,
   "id": "2fa32af9-1769-4d37-ae9b-e3dafaccd5a9",
   "metadata": {},
   "outputs": [
    {
     "data": {
      "text/plain": [
       "16"
      ]
     },
     "execution_count": 16,
     "metadata": {},
     "output_type": "execute_result"
    }
   ],
   "source": [
    "numArray.size"
   ]
  },
  {
   "cell_type": "code",
   "execution_count": 17,
   "id": "bf028132-9ed3-47a3-ac48-631fe72dbdf2",
   "metadata": {},
   "outputs": [
    {
     "data": {
      "text/plain": [
       "array([[ 9, 10,  5, 14],\n",
       "       [14,  4, 13, 11],\n",
       "       [ 6, 10,  9,  8],\n",
       "       [ 9,  4,  1, 12]])"
      ]
     },
     "execution_count": 17,
     "metadata": {},
     "output_type": "execute_result"
    }
   ],
   "source": [
    "numArray2 = np.random.randint(15, size = (4,4))\n",
    "numArray2"
   ]
  },
  {
   "cell_type": "code",
   "execution_count": 18,
   "id": "02196a13-decb-4786-b8b0-14674617fd05",
   "metadata": {},
   "outputs": [
    {
     "data": {
      "text/plain": [
       "dtype('int32')"
      ]
     },
     "execution_count": 18,
     "metadata": {},
     "output_type": "execute_result"
    }
   ],
   "source": [
    "numArray2.dtype"
   ]
  },
  {
   "cell_type": "code",
   "execution_count": 19,
   "id": "f56982f8-d43a-4495-b377-f728ce667050",
   "metadata": {},
   "outputs": [
    {
     "data": {
      "text/plain": [
       "2"
      ]
     },
     "execution_count": 19,
     "metadata": {},
     "output_type": "execute_result"
    }
   ],
   "source": [
    "numArray2.ndim"
   ]
  },
  {
   "cell_type": "code",
   "execution_count": 20,
   "id": "e79179fb-c3f1-475e-906d-e150d2005f63",
   "metadata": {},
   "outputs": [
    {
     "data": {
      "text/plain": [
       "(16,)"
      ]
     },
     "execution_count": 20,
     "metadata": {},
     "output_type": "execute_result"
    }
   ],
   "source": [
    "numArray.shape"
   ]
  },
  {
   "cell_type": "code",
   "execution_count": 21,
   "id": "3844cd2a-f39a-4cbf-be13-5f020a65bcaf",
   "metadata": {},
   "outputs": [
    {
     "data": {
      "text/plain": [
       "16"
      ]
     },
     "execution_count": 21,
     "metadata": {},
     "output_type": "execute_result"
    }
   ],
   "source": [
    "numArray.size"
   ]
  },
  {
   "cell_type": "markdown",
   "id": "4e9c7f76-baca-4697-8aa2-b31fe26816b0",
   "metadata": {},
   "source": [
    "## Yeniden Şekillendirme (Reshaping)\n",
    "* Array'in boyutlarını değiştirme işlemidir"
   ]
  },
  {
   "cell_type": "code",
   "execution_count": 22,
   "id": "92cd43cb-1c54-4d5c-8766-37d922ac7cbc",
   "metadata": {},
   "outputs": [],
   "source": [
    "npArray = np.array([0,1,2])\n",
    "npArray2 = np.array([3,4,5])"
   ]
  },
  {
   "cell_type": "code",
   "execution_count": 23,
   "id": "d2c00f5c-4500-4942-bfd9-50a5cc8a67b7",
   "metadata": {},
   "outputs": [
    {
     "data": {
      "text/plain": [
       "array([0, 1, 2])"
      ]
     },
     "execution_count": 23,
     "metadata": {},
     "output_type": "execute_result"
    }
   ],
   "source": [
    "npArray"
   ]
  },
  {
   "cell_type": "code",
   "execution_count": 24,
   "id": "becf6d53-3edb-40ec-86b0-4f6cf058ef79",
   "metadata": {},
   "outputs": [
    {
     "data": {
      "text/plain": [
       "array([3, 4, 5])"
      ]
     },
     "execution_count": 24,
     "metadata": {},
     "output_type": "execute_result"
    }
   ],
   "source": [
    "npArray2"
   ]
  },
  {
   "cell_type": "code",
   "execution_count": 25,
   "id": "d2a99794-f156-455b-85c2-4fa559a36da5",
   "metadata": {},
   "outputs": [
    {
     "data": {
      "text/plain": [
       "array([0, 1, 2, 3, 4, 5])"
      ]
     },
     "execution_count": 25,
     "metadata": {},
     "output_type": "execute_result"
    }
   ],
   "source": [
    "np.concatenate([npArray,npArray2])"
   ]
  },
  {
   "cell_type": "markdown",
   "id": "7b41d847-86e0-4be4-82e1-73753728a731",
   "metadata": {},
   "source": [
    "* İki boyut reshaping işlemleri"
   ]
  },
  {
   "cell_type": "code",
   "execution_count": 26,
   "id": "c26403cf-595e-4568-8ebb-c3bca6963c15",
   "metadata": {},
   "outputs": [
    {
     "data": {
      "text/plain": [
       "array([[0, 1, 2, 3, 4],\n",
       "       [5, 6, 7, 8, 9]])"
      ]
     },
     "execution_count": 26,
     "metadata": {},
     "output_type": "execute_result"
    }
   ],
   "source": [
    "npArray3 = np.array([[0,1,2,3,4],\n",
    "                    [5,6,7,8,9]])\n",
    "npArray3"
   ]
  },
  {
   "cell_type": "code",
   "execution_count": 27,
   "id": "e6df7709-d861-4e0c-a6b2-dcccac27a68c",
   "metadata": {},
   "outputs": [
    {
     "data": {
      "text/plain": [
       "array([[10, 11, 12, 13, 14],\n",
       "       [15, 16, 17, 18, 19]])"
      ]
     },
     "execution_count": 27,
     "metadata": {},
     "output_type": "execute_result"
    }
   ],
   "source": [
    "npArray4 = np.array([[10,11,12,13,14],\n",
    "                    [15,16,17,18,19]])\n",
    "npArray4"
   ]
  },
  {
   "cell_type": "code",
   "execution_count": 28,
   "id": "5d4659ed-4901-49a0-9572-a605db97af14",
   "metadata": {},
   "outputs": [
    {
     "data": {
      "text/plain": [
       "array([[ 0,  1,  2,  3,  4],\n",
       "       [ 5,  6,  7,  8,  9],\n",
       "       [10, 11, 12, 13, 14],\n",
       "       [15, 16, 17, 18, 19]])"
      ]
     },
     "execution_count": 28,
     "metadata": {},
     "output_type": "execute_result"
    }
   ],
   "source": [
    "np.concatenate([npArray3,npArray4])"
   ]
  },
  {
   "cell_type": "code",
   "execution_count": 29,
   "id": "317104fb-2e56-495d-9e88-40e4acbd20af",
   "metadata": {},
   "outputs": [
    {
     "data": {
      "text/plain": [
       "array([[ 0,  1,  2,  3,  4, 10, 11, 12, 13, 14],\n",
       "       [ 5,  6,  7,  8,  9, 15, 16, 17, 18, 19]])"
      ]
     },
     "execution_count": 29,
     "metadata": {},
     "output_type": "execute_result"
    }
   ],
   "source": [
    "np.concatenate([npArray3,npArray4], axis = 1)"
   ]
  },
  {
   "cell_type": "markdown",
   "id": "2eb75ba9-f68f-40b1-9524-2ff41af02828",
   "metadata": {},
   "source": [
    "## Array Ayırma (Splitting)\n",
    "* Array'i daha küçük parçalara ayırma işlemidir."
   ]
  },
  {
   "cell_type": "code",
   "execution_count": 30,
   "id": "b2ba2d79-a99f-4681-b717-2f9e0be62312",
   "metadata": {},
   "outputs": [
    {
     "data": {
      "text/plain": [
       "array([1, 0, 5, 0, 3, 7, 8, 2, 6, 8, 8, 4])"
      ]
     },
     "execution_count": 30,
     "metadata": {},
     "output_type": "execute_result"
    }
   ],
   "source": [
    "numArray = np.random.randint(10, size = 12)\n",
    "numArray"
   ]
  },
  {
   "cell_type": "code",
   "execution_count": 31,
   "id": "994b5fde-2f5d-4720-8fd8-0bacfedb7d33",
   "metadata": {},
   "outputs": [
    {
     "data": {
      "text/plain": [
       "[array([1, 0, 5, 0]), array([3, 7, 8, 2, 6]), array([8, 8, 4])]"
      ]
     },
     "execution_count": 31,
     "metadata": {},
     "output_type": "execute_result"
    }
   ],
   "source": [
    "np.split(numArray, [4,9])"
   ]
  },
  {
   "cell_type": "code",
   "execution_count": 32,
   "id": "4020dcbe-6e83-46ad-86c8-d6944b3d6538",
   "metadata": {},
   "outputs": [],
   "source": [
    "numArray1, numArray2, numArray3 = np.split(numArray, [4,9])"
   ]
  },
  {
   "cell_type": "code",
   "execution_count": 33,
   "id": "e7cdfc45-2ba0-4341-9aa8-9c82f28b3fdc",
   "metadata": {},
   "outputs": [
    {
     "data": {
      "text/plain": [
       "array([1, 0, 5, 0])"
      ]
     },
     "execution_count": 33,
     "metadata": {},
     "output_type": "execute_result"
    }
   ],
   "source": [
    "numArray1"
   ]
  },
  {
   "cell_type": "code",
   "execution_count": 34,
   "id": "860bb4ec-088d-428e-92fc-c5803b37a24c",
   "metadata": {},
   "outputs": [
    {
     "data": {
      "text/plain": [
       "array([3, 7, 8, 2, 6])"
      ]
     },
     "execution_count": 34,
     "metadata": {},
     "output_type": "execute_result"
    }
   ],
   "source": [
    "numArray2"
   ]
  },
  {
   "cell_type": "code",
   "execution_count": 35,
   "id": "bd314c5d-dcb7-4fa5-9b9c-7c9e005fd631",
   "metadata": {},
   "outputs": [
    {
     "data": {
      "text/plain": [
       "array([8, 8, 4])"
      ]
     },
     "execution_count": 35,
     "metadata": {},
     "output_type": "execute_result"
    }
   ],
   "source": [
    "numArray3"
   ]
  },
  {
   "cell_type": "markdown",
   "id": "6200cce2-f8b7-4e04-93b0-d49f9fcbac52",
   "metadata": {},
   "source": [
    "* İki boyut split işlemleri"
   ]
  },
  {
   "cell_type": "code",
   "execution_count": 36,
   "id": "eee91604-04ed-479f-9ec4-0052847338fe",
   "metadata": {},
   "outputs": [
    {
     "data": {
      "text/plain": [
       "array([[ 0,  1,  2,  3,  4],\n",
       "       [ 5,  6,  7,  8,  9],\n",
       "       [10, 11, 12, 13, 14],\n",
       "       [15, 16, 17, 18, 19]])"
      ]
     },
     "execution_count": 36,
     "metadata": {},
     "output_type": "execute_result"
    }
   ],
   "source": [
    "m = np.arange(20).reshape(4,5)\n",
    "m"
   ]
  },
  {
   "cell_type": "code",
   "execution_count": 37,
   "id": "b07f8110-eef2-4b86-8e42-1db7a4f1a29a",
   "metadata": {},
   "outputs": [
    {
     "data": {
      "text/plain": [
       "[array([[0, 1, 2, 3, 4],\n",
       "        [5, 6, 7, 8, 9]]),\n",
       " array([[10, 11, 12, 13, 14],\n",
       "        [15, 16, 17, 18, 19]])]"
      ]
     },
     "execution_count": 37,
     "metadata": {},
     "output_type": "execute_result"
    }
   ],
   "source": [
    "np.vsplit(m, [2])"
   ]
  },
  {
   "cell_type": "code",
   "execution_count": 38,
   "id": "648ed409-fd42-4b0a-b065-d251d2ef6141",
   "metadata": {},
   "outputs": [],
   "source": [
    "ust, alt = np.vsplit(m, [2])"
   ]
  },
  {
   "cell_type": "code",
   "execution_count": 39,
   "id": "39c59514-8fce-4add-ac51-6e37112ed4bd",
   "metadata": {},
   "outputs": [
    {
     "data": {
      "text/plain": [
       "array([[0, 1, 2, 3, 4],\n",
       "       [5, 6, 7, 8, 9]])"
      ]
     },
     "execution_count": 39,
     "metadata": {},
     "output_type": "execute_result"
    }
   ],
   "source": [
    "ust"
   ]
  },
  {
   "cell_type": "code",
   "execution_count": 40,
   "id": "2feeb702-41cc-4b13-973b-7a05671e08db",
   "metadata": {},
   "outputs": [
    {
     "data": {
      "text/plain": [
       "array([[10, 11, 12, 13, 14],\n",
       "       [15, 16, 17, 18, 19]])"
      ]
     },
     "execution_count": 40,
     "metadata": {},
     "output_type": "execute_result"
    }
   ],
   "source": [
    "alt"
   ]
  },
  {
   "cell_type": "code",
   "execution_count": 41,
   "id": "d592d287-badb-485e-adeb-cdbc8e42dbc6",
   "metadata": {},
   "outputs": [
    {
     "data": {
      "text/plain": [
       "[array([[ 0,  1],\n",
       "        [ 5,  6],\n",
       "        [10, 11],\n",
       "        [15, 16]]),\n",
       " array([[ 2,  3,  4],\n",
       "        [ 7,  8,  9],\n",
       "        [12, 13, 14],\n",
       "        [17, 18, 19]])]"
      ]
     },
     "execution_count": 41,
     "metadata": {},
     "output_type": "execute_result"
    }
   ],
   "source": [
    "np.hsplit(m, [2])"
   ]
  },
  {
   "cell_type": "code",
   "execution_count": 42,
   "id": "878e6dd3-d9d5-4cd9-bbdf-521d742dfc29",
   "metadata": {},
   "outputs": [],
   "source": [
    "sag, sol = np.hsplit(m, [2])"
   ]
  },
  {
   "cell_type": "code",
   "execution_count": 43,
   "id": "e7852037-8df7-41c3-9d23-a653c7245719",
   "metadata": {},
   "outputs": [
    {
     "data": {
      "text/plain": [
       "array([[ 0,  1],\n",
       "       [ 5,  6],\n",
       "       [10, 11],\n",
       "       [15, 16]])"
      ]
     },
     "execution_count": 43,
     "metadata": {},
     "output_type": "execute_result"
    }
   ],
   "source": [
    "sag"
   ]
  },
  {
   "cell_type": "code",
   "execution_count": 44,
   "id": "25982fe1-7074-491f-98d1-e77f706e7722",
   "metadata": {},
   "outputs": [
    {
     "data": {
      "text/plain": [
       "array([[ 2,  3,  4],\n",
       "       [ 7,  8,  9],\n",
       "       [12, 13, 14],\n",
       "       [17, 18, 19]])"
      ]
     },
     "execution_count": 44,
     "metadata": {},
     "output_type": "execute_result"
    }
   ],
   "source": [
    "sol"
   ]
  },
  {
   "cell_type": "markdown",
   "id": "65cf4aa4-9c14-4ede-ae71-269b64b7b15f",
   "metadata": {},
   "source": [
    "## Array Sıralama (Sorting)"
   ]
  },
  {
   "cell_type": "code",
   "execution_count": 45,
   "id": "2533ea42-f454-48a1-8953-06adf87ab28a",
   "metadata": {},
   "outputs": [
    {
     "data": {
      "text/plain": [
       "array([24, 52, 12, 62, 83, 20])"
      ]
     },
     "execution_count": 45,
     "metadata": {},
     "output_type": "execute_result"
    }
   ],
   "source": [
    "numArray = np.array([24,52,12,62,83,20])\n",
    "numArray"
   ]
  },
  {
   "cell_type": "code",
   "execution_count": 46,
   "id": "b987ee3f-4e0a-4f46-ad2a-eeea127f7cb0",
   "metadata": {},
   "outputs": [
    {
     "data": {
      "text/plain": [
       "array([12, 20, 24, 52, 62, 83])"
      ]
     },
     "execution_count": 46,
     "metadata": {},
     "output_type": "execute_result"
    }
   ],
   "source": [
    "np.sort(numArray)"
   ]
  },
  {
   "cell_type": "markdown",
   "id": "55eb9b52-9ca1-40cb-8e00-869c1f5867f8",
   "metadata": {},
   "source": [
    "* İki boyut reshaping işlemleri"
   ]
  },
  {
   "cell_type": "code",
   "execution_count": 47,
   "id": "f9b7e55e-eeff-4ed6-94bc-0d92e4c669ed",
   "metadata": {},
   "outputs": [
    {
     "data": {
      "text/plain": [
       "array([[64, 10, 31],\n",
       "       [13, 27, 96],\n",
       "       [54, 39, 18]])"
      ]
     },
     "execution_count": 47,
     "metadata": {},
     "output_type": "execute_result"
    }
   ],
   "source": [
    "numArray = np.random.randint(1,100, size = (3,3))\n",
    "numArray"
   ]
  },
  {
   "cell_type": "code",
   "execution_count": 48,
   "id": "110df7b4-2273-43d3-93f5-9273f8258358",
   "metadata": {},
   "outputs": [
    {
     "data": {
      "text/plain": [
       "array([[10, 31, 64],\n",
       "       [13, 27, 96],\n",
       "       [18, 39, 54]])"
      ]
     },
     "execution_count": 48,
     "metadata": {},
     "output_type": "execute_result"
    }
   ],
   "source": [
    "np.sort(numArray, axis = 1)"
   ]
  },
  {
   "cell_type": "code",
   "execution_count": 49,
   "id": "fdc4df54-360f-4e21-82b3-6ed8bf4f6b51",
   "metadata": {},
   "outputs": [
    {
     "data": {
      "text/plain": [
       "array([[13, 10, 18],\n",
       "       [54, 27, 31],\n",
       "       [64, 39, 96]])"
      ]
     },
     "execution_count": 49,
     "metadata": {},
     "output_type": "execute_result"
    }
   ],
   "source": [
    "np.sort(numArray, axis = 0)"
   ]
  },
  {
   "cell_type": "markdown",
   "id": "70143488-e42c-4ebb-b9a4-a50f00c46be4",
   "metadata": {},
   "source": [
    "## Index ile Elemanlara Erişmek"
   ]
  },
  {
   "cell_type": "code",
   "execution_count": 50,
   "id": "001e4071-1b56-4829-992c-bad4b5d4b1e3",
   "metadata": {},
   "outputs": [
    {
     "data": {
      "text/plain": [
       "array([17,  1, 10,  8,  9,  5,  5, 15, 14, 15,  5,  6, 12, 10, 13, 10,  1,\n",
       "       11,  4,  8])"
      ]
     },
     "execution_count": 50,
     "metadata": {},
     "output_type": "execute_result"
    }
   ],
   "source": [
    "numArray = np.random.randint(20, size = 20)\n",
    "numArray"
   ]
  },
  {
   "cell_type": "code",
   "execution_count": 51,
   "id": "1f3d0ae6-8628-41a7-8d7f-032e6e679ef5",
   "metadata": {},
   "outputs": [
    {
     "data": {
      "text/plain": [
       "4"
      ]
     },
     "execution_count": 51,
     "metadata": {},
     "output_type": "execute_result"
    }
   ],
   "source": [
    "numArray[18]"
   ]
  },
  {
   "cell_type": "code",
   "execution_count": 52,
   "id": "267d09f8-e607-4285-a978-f77f9f6422a2",
   "metadata": {},
   "outputs": [
    {
     "data": {
      "text/plain": [
       "5"
      ]
     },
     "execution_count": 52,
     "metadata": {},
     "output_type": "execute_result"
    }
   ],
   "source": [
    "numArray[10]"
   ]
  },
  {
   "cell_type": "markdown",
   "id": "a45388e3-3186-439a-80d5-a3db93ebe979",
   "metadata": {},
   "source": [
    "* İki boyut index işlemleri"
   ]
  },
  {
   "cell_type": "code",
   "execution_count": 53,
   "id": "30f23029-f469-4646-a600-74023f21bd83",
   "metadata": {},
   "outputs": [
    {
     "data": {
      "text/plain": [
       "array([[9, 7, 4, 3, 9],\n",
       "       [8, 2, 8, 9, 0],\n",
       "       [1, 9, 6, 9, 2]])"
      ]
     },
     "execution_count": 53,
     "metadata": {},
     "output_type": "execute_result"
    }
   ],
   "source": [
    "numArray2 = np.random.randint(10, size = (3,5))\n",
    "numArray2"
   ]
  },
  {
   "cell_type": "raw",
   "id": "3dd439a5-c552-4e34-9ecd-86032fc647b3",
   "metadata": {},
   "source": [
    "* Bu şekilde okunur:\n",
    "\n",
    "([[ (0,0), (0,1), (0,2), ...]\n",
    "    (1,0), (1,1), (1,2), ...],\n",
    "    (2,0), (2,1), (2,2), ...],\n",
    "      .  ,   .  ,   .  , ...],\n",
    "      .  ,   .  ,   .  , ...]])"
   ]
  },
  {
   "cell_type": "code",
   "execution_count": 54,
   "id": "64f18d13-2bb0-4ff0-b4e2-ecfa455036f4",
   "metadata": {},
   "outputs": [
    {
     "data": {
      "text/plain": [
       "4"
      ]
     },
     "execution_count": 54,
     "metadata": {},
     "output_type": "execute_result"
    }
   ],
   "source": [
    "numArray2[0,2]"
   ]
  },
  {
   "cell_type": "code",
   "execution_count": 55,
   "id": "4be31855-6e67-4f4c-8740-442a2f23fb01",
   "metadata": {},
   "outputs": [
    {
     "data": {
      "text/plain": [
       "9"
      ]
     },
     "execution_count": 55,
     "metadata": {},
     "output_type": "execute_result"
    }
   ],
   "source": [
    "numArray2[1,3]"
   ]
  },
  {
   "cell_type": "code",
   "execution_count": 56,
   "id": "1416c051-daef-4813-a63d-1112c0b09a98",
   "metadata": {},
   "outputs": [],
   "source": [
    "numArray2[1, 4] = 18"
   ]
  },
  {
   "cell_type": "code",
   "execution_count": 57,
   "id": "9015b080-1d45-495a-8788-e70eb9406876",
   "metadata": {},
   "outputs": [
    {
     "data": {
      "text/plain": [
       "array([[ 9,  7,  4,  3,  9],\n",
       "       [ 8,  2,  8,  9, 18],\n",
       "       [ 1,  9,  6,  9,  2]])"
      ]
     },
     "execution_count": 57,
     "metadata": {},
     "output_type": "execute_result"
    }
   ],
   "source": [
    "numArray2"
   ]
  },
  {
   "cell_type": "markdown",
   "id": "63eb60c0-3fa7-43c4-b794-8acd32b2f93f",
   "metadata": {},
   "source": [
    "## Slicing ile Elemanlara Erişmek (Array Alt Kümesine Erişmek)"
   ]
  },
  {
   "cell_type": "code",
   "execution_count": 58,
   "id": "5a5b39c6-0561-4b93-a1b5-94750461d531",
   "metadata": {},
   "outputs": [
    {
     "data": {
      "text/plain": [
       "array([0, 1, 2, 3, 4, 5, 6, 7, 8, 9])"
      ]
     },
     "execution_count": 58,
     "metadata": {},
     "output_type": "execute_result"
    }
   ],
   "source": [
    "numArray = np.arange(0,10)\n",
    "numArray"
   ]
  },
  {
   "cell_type": "code",
   "execution_count": 59,
   "id": "844cab2f-40dc-4580-83c7-0997e50130ae",
   "metadata": {},
   "outputs": [
    {
     "data": {
      "text/plain": [
       "array([0, 1, 2])"
      ]
     },
     "execution_count": 59,
     "metadata": {},
     "output_type": "execute_result"
    }
   ],
   "source": [
    "numArray[0:3]"
   ]
  },
  {
   "cell_type": "code",
   "execution_count": 60,
   "id": "15af4a77-271b-4acf-b527-45511a045c53",
   "metadata": {},
   "outputs": [
    {
     "data": {
      "text/plain": [
       "array([0, 1, 2])"
      ]
     },
     "execution_count": 60,
     "metadata": {},
     "output_type": "execute_result"
    }
   ],
   "source": [
    "numArray[:3]"
   ]
  },
  {
   "cell_type": "code",
   "execution_count": 61,
   "id": "816990e8-f037-49f1-b972-1a0c1a6a094d",
   "metadata": {},
   "outputs": [
    {
     "data": {
      "text/plain": [
       "array([1, 3, 5, 7, 9])"
      ]
     },
     "execution_count": 61,
     "metadata": {},
     "output_type": "execute_result"
    }
   ],
   "source": [
    "numArray[1::2]"
   ]
  },
  {
   "cell_type": "code",
   "execution_count": 62,
   "id": "7e4abe11-915e-46e3-aaac-1cc7ebb5800b",
   "metadata": {},
   "outputs": [
    {
     "data": {
      "text/plain": [
       "array([0, 3, 6, 9])"
      ]
     },
     "execution_count": 62,
     "metadata": {},
     "output_type": "execute_result"
    }
   ],
   "source": [
    "numArray[0::3]"
   ]
  },
  {
   "cell_type": "code",
   "execution_count": 63,
   "id": "e512425b-f974-4288-9502-b51ad9d4a994",
   "metadata": {},
   "outputs": [
    {
     "data": {
      "text/plain": [
       "array([0, 3, 6])"
      ]
     },
     "execution_count": 63,
     "metadata": {},
     "output_type": "execute_result"
    }
   ],
   "source": [
    "numArray[0:8:3]"
   ]
  },
  {
   "cell_type": "markdown",
   "id": "bc0f61f7-1ca8-448f-9f68-d8dc22d7ae39",
   "metadata": {},
   "source": [
    "* İki boyut slice işlemleri"
   ]
  },
  {
   "cell_type": "code",
   "execution_count": 64,
   "id": "4493b403-a8ca-49fc-8bb0-e04b80a883bb",
   "metadata": {},
   "outputs": [
    {
     "data": {
      "text/plain": [
       "array([[5, 5, 1, 8],\n",
       "       [6, 2, 5, 5],\n",
       "       [9, 5, 3, 1],\n",
       "       [8, 6, 5, 4]])"
      ]
     },
     "execution_count": 64,
     "metadata": {},
     "output_type": "execute_result"
    }
   ],
   "source": [
    "numArray2 = np.random.randint(1,10, size = (4,4))\n",
    "numArray2"
   ]
  },
  {
   "cell_type": "code",
   "execution_count": 65,
   "id": "5633c4f2-1cdc-4e88-9cd1-c9446b8ffb04",
   "metadata": {},
   "outputs": [
    {
     "data": {
      "text/plain": [
       "array([5, 6, 9, 8])"
      ]
     },
     "execution_count": 65,
     "metadata": {},
     "output_type": "execute_result"
    }
   ],
   "source": [
    "numArray2[:,0]"
   ]
  },
  {
   "cell_type": "code",
   "execution_count": 66,
   "id": "f2277dd4-0ad2-4ac7-b4ed-1f8e898244a7",
   "metadata": {},
   "outputs": [
    {
     "data": {
      "text/plain": [
       "array([1, 5, 3, 5])"
      ]
     },
     "execution_count": 66,
     "metadata": {},
     "output_type": "execute_result"
    }
   ],
   "source": [
    "numArray2[:,2]"
   ]
  },
  {
   "cell_type": "code",
   "execution_count": 67,
   "id": "07bcd512-0f61-430a-8f11-84c6eaad4785",
   "metadata": {},
   "outputs": [
    {
     "data": {
      "text/plain": [
       "array([[6, 2, 5, 5],\n",
       "       [9, 5, 3, 1],\n",
       "       [8, 6, 5, 4]])"
      ]
     },
     "execution_count": 67,
     "metadata": {},
     "output_type": "execute_result"
    }
   ],
   "source": [
    "numArray2[1:,]"
   ]
  },
  {
   "cell_type": "code",
   "execution_count": 68,
   "id": "976ea360-c6f3-4b4c-aeff-8b706dd574c9",
   "metadata": {},
   "outputs": [
    {
     "data": {
      "text/plain": [
       "array([[5, 1, 8],\n",
       "       [2, 5, 5],\n",
       "       [5, 3, 1],\n",
       "       [6, 5, 4]])"
      ]
     },
     "execution_count": 68,
     "metadata": {},
     "output_type": "execute_result"
    }
   ],
   "source": [
    "numArray2[0:4, 1:4]"
   ]
  },
  {
   "cell_type": "code",
   "execution_count": 69,
   "id": "b68c1e2b-2deb-4d31-8ca7-93550591789e",
   "metadata": {},
   "outputs": [
    {
     "data": {
      "text/plain": [
       "array([[6, 2, 5, 5]])"
      ]
     },
     "execution_count": 69,
     "metadata": {},
     "output_type": "execute_result"
    }
   ],
   "source": [
    "numArray2[1:2,]"
   ]
  },
  {
   "cell_type": "markdown",
   "id": "2c1ebf67-e298-45a6-a0fd-461afde6333f",
   "metadata": {},
   "source": [
    "## Fancy Index ile Elemanlara Erişmek"
   ]
  },
  {
   "cell_type": "code",
   "execution_count": 70,
   "id": "0f62f28e-4080-4940-81d4-8fea81a7d3ce",
   "metadata": {},
   "outputs": [
    {
     "data": {
      "text/plain": [
       "array([ 10,  20,  30,  40,  50,  60,  70,  80,  90, 100])"
      ]
     },
     "execution_count": 70,
     "metadata": {},
     "output_type": "execute_result"
    }
   ],
   "source": [
    "numArray = np.arange(10,101, 10)\n",
    "numArray"
   ]
  },
  {
   "cell_type": "code",
   "execution_count": 71,
   "id": "55a17107-f47a-4222-b573-c6940946acab",
   "metadata": {},
   "outputs": [],
   "source": [
    "numArray1, numArray2, numArray3 = [ numArray[2], numArray[5], numArray[0] ]"
   ]
  },
  {
   "cell_type": "code",
   "execution_count": 72,
   "id": "ce22975a-4a29-4876-bf53-1ad3e8fdb158",
   "metadata": {},
   "outputs": [
    {
     "data": {
      "text/plain": [
       "30"
      ]
     },
     "execution_count": 72,
     "metadata": {},
     "output_type": "execute_result"
    }
   ],
   "source": [
    "numArray1"
   ]
  },
  {
   "cell_type": "code",
   "execution_count": 73,
   "id": "d417c4ca-3977-4f82-9848-72fe4bf1d0c3",
   "metadata": {},
   "outputs": [
    {
     "data": {
      "text/plain": [
       "60"
      ]
     },
     "execution_count": 73,
     "metadata": {},
     "output_type": "execute_result"
    }
   ],
   "source": [
    "numArray2"
   ]
  },
  {
   "cell_type": "code",
   "execution_count": 74,
   "id": "7c53ca3d-8a89-43b9-aaa2-155867780313",
   "metadata": {},
   "outputs": [
    {
     "data": {
      "text/plain": [
       "10"
      ]
     },
     "execution_count": 74,
     "metadata": {},
     "output_type": "execute_result"
    }
   ],
   "source": [
    "numArray3"
   ]
  },
  {
   "cell_type": "markdown",
   "id": "cf319798-1f18-48f4-8a2b-9021d5e27231",
   "metadata": {},
   "source": [
    "* iki boyutta fancy"
   ]
  },
  {
   "cell_type": "code",
   "execution_count": 75,
   "id": "fbffb94e-500f-424e-ad2d-760d08d86308",
   "metadata": {},
   "outputs": [
    {
     "data": {
      "text/plain": [
       "array([[ 2, 17, 16],\n",
       "       [11,  8, 14],\n",
       "       [ 8,  2,  4]])"
      ]
     },
     "execution_count": 75,
     "metadata": {},
     "output_type": "execute_result"
    }
   ],
   "source": [
    "numArray2 = np.random.randint(1,19, size = 9).reshape(3,3)\n",
    "numArray2"
   ]
  },
  {
   "cell_type": "code",
   "execution_count": 76,
   "id": "62691054-9f18-4379-8bfe-e007a6d25faf",
   "metadata": {},
   "outputs": [],
   "source": [
    "satir = np.array(numArray2[0,1])\n",
    "sutun = np.array(numArray2[1,2])"
   ]
  },
  {
   "cell_type": "code",
   "execution_count": 77,
   "id": "e80ecd7a-878d-4995-9318-336f5643e820",
   "metadata": {},
   "outputs": [
    {
     "data": {
      "text/plain": [
       "array(17)"
      ]
     },
     "execution_count": 77,
     "metadata": {},
     "output_type": "execute_result"
    }
   ],
   "source": [
    "satir"
   ]
  },
  {
   "cell_type": "code",
   "execution_count": 78,
   "id": "e49df97c-b451-48ce-837d-100358a71bdd",
   "metadata": {},
   "outputs": [
    {
     "data": {
      "text/plain": [
       "array(14)"
      ]
     },
     "execution_count": 78,
     "metadata": {},
     "output_type": "execute_result"
    }
   ],
   "source": [
    "sutun"
   ]
  },
  {
   "cell_type": "code",
   "execution_count": 79,
   "id": "56a5d35a-8f57-4b3c-8916-beadc351641c",
   "metadata": {},
   "outputs": [
    {
     "data": {
      "text/plain": [
       "array([11,  8])"
      ]
     },
     "execution_count": 79,
     "metadata": {},
     "output_type": "execute_result"
    }
   ],
   "source": [
    "numArray2[1, [0,1]]"
   ]
  },
  {
   "cell_type": "markdown",
   "id": "544c6147-cf0c-4da7-bcec-67a72239736d",
   "metadata": {},
   "source": [
    "## Koşullu Eleman İşlemleri"
   ]
  },
  {
   "cell_type": "code",
   "execution_count": 80,
   "id": "72730faf-3924-4a6b-8c3d-6c9275e24662",
   "metadata": {},
   "outputs": [
    {
     "data": {
      "text/plain": [
       "array([10,  1,  9, 16,  3, 18, 16, 18,  5])"
      ]
     },
     "execution_count": 80,
     "metadata": {},
     "output_type": "execute_result"
    }
   ],
   "source": [
    "numArray = np.random.randint(0,20, size = 9)\n",
    "numArray"
   ]
  },
  {
   "cell_type": "code",
   "execution_count": 81,
   "id": "6a5dc7d1-649e-4361-8cf7-f4a7cd8f2cac",
   "metadata": {},
   "outputs": [
    {
     "data": {
      "text/plain": [
       "array([False, False, False,  True, False,  True,  True,  True, False])"
      ]
     },
     "execution_count": 81,
     "metadata": {},
     "output_type": "execute_result"
    }
   ],
   "source": [
    "numArray > 10"
   ]
  },
  {
   "cell_type": "code",
   "execution_count": 82,
   "id": "8b972340-a77b-41ef-80a8-13e0860011d0",
   "metadata": {},
   "outputs": [
    {
     "data": {
      "text/plain": [
       "array([10,  9, 16, 18, 16, 18])"
      ]
     },
     "execution_count": 82,
     "metadata": {},
     "output_type": "execute_result"
    }
   ],
   "source": [
    "numArray[numArray > 5]"
   ]
  },
  {
   "cell_type": "code",
   "execution_count": 83,
   "id": "8eac851e-2325-4e2c-ab0e-c5730235d78b",
   "metadata": {},
   "outputs": [
    {
     "data": {
      "text/plain": [
       "array([], dtype=int32)"
      ]
     },
     "execution_count": 83,
     "metadata": {},
     "output_type": "execute_result"
    }
   ],
   "source": [
    "numArray[ numArray == 15]"
   ]
  },
  {
   "cell_type": "code",
   "execution_count": 84,
   "id": "6f42ef05-aee5-4780-8d88-9f0fe0e682ba",
   "metadata": {},
   "outputs": [
    {
     "data": {
      "text/plain": [
       "array([30,  3, 27, 48,  9, 54, 48, 54, 15])"
      ]
     },
     "execution_count": 84,
     "metadata": {},
     "output_type": "execute_result"
    }
   ],
   "source": [
    "numArray * 3"
   ]
  },
  {
   "cell_type": "code",
   "execution_count": 85,
   "id": "70638808-8d8e-4f0a-8e65-3885a3b7a3b0",
   "metadata": {},
   "outputs": [
    {
     "data": {
      "text/plain": [
       "array([0.1 , 0.01, 0.09, 0.16, 0.03, 0.18, 0.16, 0.18, 0.05])"
      ]
     },
     "execution_count": 85,
     "metadata": {},
     "output_type": "execute_result"
    }
   ],
   "source": [
    "numArray / 100"
   ]
  },
  {
   "cell_type": "code",
   "execution_count": 86,
   "id": "d8efe733-547e-4506-b4cc-15564a370318",
   "metadata": {},
   "outputs": [
    {
     "data": {
      "text/plain": [
       "array([-28.33333333, -43.33333333, -30.        , -18.33333333,\n",
       "       -40.        , -15.        , -18.33333333, -15.        ,\n",
       "       -36.66666667])"
      ]
     },
     "execution_count": 86,
     "metadata": {},
     "output_type": "execute_result"
    }
   ],
   "source": [
    "numArray * 20/ 12+ 39 -84"
   ]
  },
  {
   "cell_type": "markdown",
   "id": "bf6ebab0-eebc-4910-97f8-cd5149f8613a",
   "metadata": {},
   "source": [
    "## Matematiksel İşlemler"
   ]
  },
  {
   "cell_type": "code",
   "execution_count": 87,
   "id": "90b259b1-64a7-47e8-83bf-250a98ef7ed4",
   "metadata": {},
   "outputs": [
    {
     "data": {
      "text/plain": [
       "array([ 1,  2,  3,  4,  5,  6,  7,  8,  9, 10, 11, 12, 13, 14])"
      ]
     },
     "execution_count": 87,
     "metadata": {},
     "output_type": "execute_result"
    }
   ],
   "source": [
    "numArray = np.arange(1,15)\n",
    "numArray"
   ]
  },
  {
   "cell_type": "code",
   "execution_count": 88,
   "id": "46e77fee-c869-45ad-a0c3-58c3d5b62145",
   "metadata": {},
   "outputs": [
    {
     "data": {
      "text/plain": [
       "array([-9, -8, -7, -6, -5, -4, -3, -2, -1,  0,  1,  2,  3,  4])"
      ]
     },
     "execution_count": 88,
     "metadata": {},
     "output_type": "execute_result"
    }
   ],
   "source": [
    "np.subtract(numArray, 10)"
   ]
  },
  {
   "cell_type": "code",
   "execution_count": 89,
   "id": "427eceea-1bf0-4b26-a708-e135861ccefc",
   "metadata": {},
   "outputs": [
    {
     "data": {
      "text/plain": [
       "array([11, 12, 13, 14, 15, 16, 17, 18, 19, 20, 21, 22, 23, 24])"
      ]
     },
     "execution_count": 89,
     "metadata": {},
     "output_type": "execute_result"
    }
   ],
   "source": [
    "np.add(numArray, 10)"
   ]
  },
  {
   "cell_type": "code",
   "execution_count": 90,
   "id": "4690a582-032c-44cb-8f8b-88f2a7537129",
   "metadata": {},
   "outputs": [
    {
     "data": {
      "text/plain": [
       "array([ 10,  20,  30,  40,  50,  60,  70,  80,  90, 100, 110, 120, 130,\n",
       "       140])"
      ]
     },
     "execution_count": 90,
     "metadata": {},
     "output_type": "execute_result"
    }
   ],
   "source": [
    "np.multiply(numArray, 10)"
   ]
  },
  {
   "cell_type": "code",
   "execution_count": 91,
   "id": "91a7dae4-f372-401a-aa3f-f42e077cfc83",
   "metadata": {},
   "outputs": [
    {
     "data": {
      "text/plain": [
       "array([0.1, 0.2, 0.3, 0.4, 0.5, 0.6, 0.7, 0.8, 0.9, 1. , 1.1, 1.2, 1.3,\n",
       "       1.4])"
      ]
     },
     "execution_count": 91,
     "metadata": {},
     "output_type": "execute_result"
    }
   ],
   "source": [
    "np.divide(numArray, 10)"
   ]
  },
  {
   "cell_type": "code",
   "execution_count": 92,
   "id": "49f8e949-1541-41d3-b046-eacd418df234",
   "metadata": {},
   "outputs": [
    {
     "data": {
      "text/plain": [
       "array([  1,   4,   9,  16,  25,  36,  49,  64,  81, 100, 121, 144, 169,\n",
       "       196], dtype=int32)"
      ]
     },
     "execution_count": 92,
     "metadata": {},
     "output_type": "execute_result"
    }
   ],
   "source": [
    "np.power(numArray, 2)"
   ]
  },
  {
   "cell_type": "code",
   "execution_count": 93,
   "id": "82f3fd6b-3172-4c39-b3a0-c14ade8b0641",
   "metadata": {},
   "outputs": [
    {
     "data": {
      "text/plain": [
       "array([1, 0, 1, 0, 1, 0, 1, 0, 1, 0, 1, 0, 1, 0], dtype=int32)"
      ]
     },
     "execution_count": 93,
     "metadata": {},
     "output_type": "execute_result"
    }
   ],
   "source": [
    "np.mod(numArray, 2)"
   ]
  },
  {
   "cell_type": "code",
   "execution_count": 94,
   "id": "a656d29b-9397-4aa7-8538-6006249013c3",
   "metadata": {},
   "outputs": [
    {
     "data": {
      "text/plain": [
       "array([0.        , 0.69314718, 1.09861229, 1.38629436, 1.60943791,\n",
       "       1.79175947, 1.94591015, 2.07944154, 2.19722458, 2.30258509,\n",
       "       2.39789527, 2.48490665, 2.56494936, 2.63905733])"
      ]
     },
     "execution_count": 94,
     "metadata": {},
     "output_type": "execute_result"
    }
   ],
   "source": [
    "np.log(numArray)"
   ]
  },
  {
   "cell_type": "code",
   "execution_count": 95,
   "id": "bdeafa5c-f885-4f40-8622-08111812373a",
   "metadata": {},
   "outputs": [
    {
     "data": {
      "text/plain": [
       "7.5"
      ]
     },
     "execution_count": 95,
     "metadata": {},
     "output_type": "execute_result"
    }
   ],
   "source": [
    "np.mean(numArray)"
   ]
  },
  {
   "cell_type": "code",
   "execution_count": 96,
   "id": "67dda199-709c-4ab4-81fc-717996b03941",
   "metadata": {},
   "outputs": [
    {
     "data": {
      "text/plain": [
       "105"
      ]
     },
     "execution_count": 96,
     "metadata": {},
     "output_type": "execute_result"
    }
   ],
   "source": [
    "np.sum(numArray)"
   ]
  },
  {
   "cell_type": "code",
   "execution_count": 97,
   "id": "4dd19d3b-acdb-4690-b3b6-19a1839e0df5",
   "metadata": {},
   "outputs": [
    {
     "data": {
      "text/plain": [
       "1"
      ]
     },
     "execution_count": 97,
     "metadata": {},
     "output_type": "execute_result"
    }
   ],
   "source": [
    "np.min(numArray)"
   ]
  },
  {
   "cell_type": "code",
   "execution_count": 98,
   "id": "2d59c2a2-dc87-4c59-bddf-ec6251291ed8",
   "metadata": {},
   "outputs": [
    {
     "data": {
      "text/plain": [
       "14"
      ]
     },
     "execution_count": 98,
     "metadata": {},
     "output_type": "execute_result"
    }
   ],
   "source": [
    "np.max(numArray)"
   ]
  }
 ],
 "metadata": {
  "kernelspec": {
   "display_name": "Python 3 (ipykernel)",
   "language": "python",
   "name": "python3"
  },
  "language_info": {
   "codemirror_mode": {
    "name": "ipython",
    "version": 3
   },
   "file_extension": ".py",
   "mimetype": "text/x-python",
   "name": "python",
   "nbconvert_exporter": "python",
   "pygments_lexer": "ipython3",
   "version": "3.12.4"
  }
 },
 "nbformat": 4,
 "nbformat_minor": 5
}
